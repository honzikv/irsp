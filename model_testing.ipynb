{
 "cells": [
  {
   "cell_type": "markdown",
   "source": [
    "This notebook was used to test the search models"
   ],
   "metadata": {
    "collapsed": false,
    "pycharm": {
     "name": "#%% md\n"
    }
   }
  },
  {
   "cell_type": "code",
   "execution_count": 1,
   "outputs": [
    {
     "name": "stderr",
     "output_type": "stream",
     "text": [
      "[nltk_data] Downloading package wordnet to\n",
      "[nltk_data]     C:\\dev\\ir\\irsp\\resources/nltk/...\n",
      "[nltk_data]   Package wordnet is already up-to-date!\n",
      "[nltk_data] Downloading package omw-1.4 to\n",
      "[nltk_data]     C:\\dev\\ir\\irsp\\resources/nltk/...\n",
      "[nltk_data]   Package omw-1.4 is already up-to-date!\n",
      "[nltk_data] Downloading package punkt to\n",
      "[nltk_data]     C:\\dev\\ir\\irsp\\resources/nltk/...\n",
      "[nltk_data]   Package punkt is already up-to-date!\n",
      "[nltk_data] Downloading package stopwords to\n",
      "[nltk_data]     C:\\dev\\ir\\irsp\\resources/nltk/...\n",
      "[nltk_data]   Package stopwords is already up-to-date!\n"
     ]
    }
   ],
   "source": [
    "import nltk\n",
    "import os\n",
    "from nltk_dependencies import download_dependencies\n",
    "\n",
    "# Download dependencies if necessary\n",
    "download_dependencies()\n",
    "\n",
    "# Configure NLTK - set the resource path to correct location\n",
    "nltk_resources_dir = os.path.join(os.getcwd(), 'resources\\\\nltk\\\\')\n",
    "nltk.data.path.append(nltk_resources_dir)"
   ],
   "metadata": {
    "collapsed": false,
    "pycharm": {
     "name": "#%%\n"
    }
   }
  },
  {
   "cell_type": "code",
   "execution_count": 2,
   "outputs": [
    {
     "data": {
      "text/plain": "[{'text': 'tropical fish include fish found in tropical enviroments'},\n {'text': 'fish live in a sea'},\n {'text': 'tropical fish are popular aquarium fish'},\n {'text': 'fish also live in Czechia'},\n {'text': 'Czechia is a country'}]"
     },
     "execution_count": 2,
     "metadata": {},
     "output_type": "execute_result"
    }
   ],
   "source": [
    "import json\n",
    "\n",
    "from src.preprocessing.preprocessor_configurations import english_default_stemmer\n",
    "from src.index.index import Index\n",
    "from src.index.index_config import IndexConfig\n",
    "\n",
    "# Load sample file\n",
    "with open('resources/docs/english_documents.json', 'r') as f:\n",
    "    documents = json.load(f)\n",
    "\n",
    "documents"
   ],
   "metadata": {
    "collapsed": false,
    "pycharm": {
     "name": "#%%\n"
    }
   }
  },
  {
   "cell_type": "code",
   "execution_count": 3,
   "outputs": [],
   "source": [
    "from src.preprocessing.preprocessing import Preprocessor\n",
    "from src.index.index import add_index, delete_index\n",
    "\n",
    "try:\n",
    "    delete_index('test')\n",
    "except:\n",
    "    pass\n",
    "\n",
    "# Create new index and add it to the app\n",
    "index = Index(\n",
    "    config=IndexConfig(\n",
    "        name='test',\n",
    "        preprocessor=Preprocessor(english_default_stemmer),\n",
    "    ),\n",
    "    initial_batch=[]\n",
    ")\n",
    "\n",
    "add_index('test', index)"
   ],
   "metadata": {
    "collapsed": false,
    "pycharm": {
     "name": "#%%\n"
    }
   }
  },
  {
   "cell_type": "code",
   "execution_count": 4,
   "outputs": [
    {
     "name": "stdout",
     "output_type": "stream",
     "text": [
      "Recalculating TFIDF terms\n"
     ]
    },
    {
     "data": {
      "text/plain": "5"
     },
     "execution_count": 4,
     "metadata": {},
     "output_type": "execute_result"
    }
   ],
   "source": [
    "# Map json documents to domain objects\n",
    "docs_domain = []\n",
    "for doc in documents:\n",
    "    docs_domain.append(\n",
    "        index._parse_document_from_dict(doc)\n",
    "    )\n",
    "index.add_batch(docs_domain)\n",
    "\n",
    "len(index.documents)"
   ],
   "metadata": {
    "collapsed": false,
    "pycharm": {
     "name": "#%%\n"
    }
   }
  },
  {
   "cell_type": "code",
   "execution_count": 5,
   "outputs": [
    {
     "name": "stdout",
     "output_type": "stream",
     "text": [
      "Document:\n",
      "\tid: 0\n",
      "\ttokens: ['tropic', 'fish', 'includ', 'fish', 'found', 'tropic', 'enviro']\n",
      "Document:\n",
      "\tid: 2\n",
      "\ttokens: ['tropic', 'fish', 'popular', 'aquarium', 'fish']\n"
     ]
    }
   ],
   "source": [
    "from src.api.indices_dtos import QueryDto, ModelVariant\n",
    "\n",
    "# A simple boolean query\n",
    "boolean_query = 'Fish AND Tropical'\n",
    "query_dto = QueryDto(query=boolean_query, model=ModelVariant.BOOL)\n",
    "\n",
    "documents = index.search(query_dto)\n",
    "\n",
    "for document in documents:\n",
    "    print(document)"
   ],
   "metadata": {
    "collapsed": false,
    "pycharm": {
     "name": "#%%\n"
    }
   }
  },
  {
   "cell_type": "code",
   "execution_count": 6,
   "outputs": [
    {
     "name": "stdout",
     "output_type": "stream",
     "text": [
      "Found 1 documents\n",
      "Document:\n",
      "\tid: 4\n",
      "\ttokens: ['czechia', 'countri']\n"
     ]
    }
   ],
   "source": [
    "from src.api.indices_dtos import QueryDto, ModelVariant\n",
    "\n",
    "# A simple boolean query\n",
    "boolean_query = '(NOT FISH) AND CZECHIA'\n",
    "query_dto = QueryDto(query=boolean_query, model=ModelVariant.BOOL)\n",
    "\n",
    "documents = index.search(query_dto)\n",
    "\n",
    "print(f'Found {len(documents)} documents')\n",
    "for document in documents:\n",
    "    print(document)"
   ],
   "metadata": {
    "collapsed": false,
    "pycharm": {
     "name": "#%%\n"
    }
   }
  },
  {
   "cell_type": "code",
   "execution_count": 8,
   "outputs": [
    {
     "ename": "KeyboardInterrupt",
     "evalue": "",
     "output_type": "error",
     "traceback": [
      "\u001B[1;31m---------------------------------------------------------------------------\u001B[0m",
      "\u001B[1;31mKeyboardInterrupt\u001B[0m                         Traceback (most recent call last)",
      "Input \u001B[1;32mIn [8]\u001B[0m, in \u001B[0;36m<cell line: 5>\u001B[1;34m()\u001B[0m\n\u001B[0;32m      2\u001B[0m tfidf_query \u001B[38;5;241m=\u001B[39m \u001B[38;5;124m'\u001B[39m\u001B[38;5;124mczechia\u001B[39m\u001B[38;5;124m'\u001B[39m\n\u001B[0;32m      3\u001B[0m query_dto \u001B[38;5;241m=\u001B[39m QueryDto(query\u001B[38;5;241m=\u001B[39mtfidf_query, model\u001B[38;5;241m=\u001B[39mModelVariant\u001B[38;5;241m.\u001B[39mTFIDF)\n\u001B[1;32m----> 5\u001B[0m documents \u001B[38;5;241m=\u001B[39m \u001B[43mindex\u001B[49m\u001B[38;5;241;43m.\u001B[39;49m\u001B[43msearch\u001B[49m\u001B[43m(\u001B[49m\u001B[43mquery_dto\u001B[49m\u001B[43m)\u001B[49m\n\u001B[0;32m      7\u001B[0m \u001B[38;5;28mprint\u001B[39m(\u001B[38;5;124mf\u001B[39m\u001B[38;5;124m'\u001B[39m\u001B[38;5;124mFound \u001B[39m\u001B[38;5;132;01m{\u001B[39;00m\u001B[38;5;28mlen\u001B[39m(documents)\u001B[38;5;132;01m}\u001B[39;00m\u001B[38;5;124m documents\u001B[39m\u001B[38;5;124m'\u001B[39m)\n\u001B[0;32m      8\u001B[0m \u001B[38;5;28;01mfor\u001B[39;00m document \u001B[38;5;129;01min\u001B[39;00m documents:\n",
      "File \u001B[1;32mC:\\dev\\ir\\irsp\\src\\index\\index.py:174\u001B[0m, in \u001B[0;36mIndex.search\u001B[1;34m(self, query_dto)\u001B[0m\n\u001B[0;32m    172\u001B[0m \u001B[38;5;66;03m# Model variant gets validated in the controller via Pydantic, so we can assume it's valid\u001B[39;00m\n\u001B[0;32m    173\u001B[0m search_model \u001B[38;5;241m=\u001B[39m \u001B[38;5;28mself\u001B[39m\u001B[38;5;241m.\u001B[39mmodels[model\u001B[38;5;241m.\u001B[39mvalue]\n\u001B[1;32m--> 174\u001B[0m \u001B[38;5;28;01mreturn\u001B[39;00m \u001B[43msearch_model\u001B[49m\u001B[38;5;241;43m.\u001B[39;49m\u001B[43msearch\u001B[49m\u001B[43m(\u001B[49m\u001B[43mquery\u001B[49m\u001B[43m,\u001B[49m\u001B[43m \u001B[49m\u001B[43mn_items\u001B[49m\u001B[43m)\u001B[49m\n",
      "File \u001B[1;32mC:\\dev\\ir\\irsp\\src\\search\\tfidf_model.py:112\u001B[0m, in \u001B[0;36mTfIdfModel.search\u001B[1;34m(self, query, top_n)\u001B[0m\n\u001B[0;32m    110\u001B[0m results \u001B[38;5;241m=\u001B[39m []\n\u001B[0;32m    111\u001B[0m \u001B[38;5;28;01mfor\u001B[39;00m doc_id, document \u001B[38;5;129;01min\u001B[39;00m documents\u001B[38;5;241m.\u001B[39mitems():\n\u001B[1;32m--> 112\u001B[0m     doc_vec \u001B[38;5;241m=\u001B[39m \u001B[43mtfidf_vectorize_document\u001B[49m\u001B[43m(\u001B[49m\u001B[43minverted_idx\u001B[49m\u001B[43m,\u001B[49m\u001B[43m \u001B[49m\u001B[43mdocument\u001B[49m\u001B[43m)\u001B[49m\n\u001B[0;32m    113\u001B[0m     results\u001B[38;5;241m.\u001B[39mappend({\u001B[38;5;124m\"\u001B[39m\u001B[38;5;124mscore\u001B[39m\u001B[38;5;124m\"\u001B[39m: cosine_similarity(query_vector, doc_vec), \u001B[38;5;124m\"\u001B[39m\u001B[38;5;124mdocument\u001B[39m\u001B[38;5;124m\"\u001B[39m: document})\n\u001B[0;32m    115\u001B[0m \u001B[38;5;66;03m# Sort the results by score descending\u001B[39;00m\n",
      "File \u001B[1;32mC:\\dev\\ir\\irsp\\src\\search\\tfidf_model.py:46\u001B[0m, in \u001B[0;36mtfidf_vectorize_document\u001B[1;34m(terms, document)\u001B[0m\n\u001B[0;32m     43\u001B[0m         vector[dim] \u001B[38;5;241m=\u001B[39m term_info\u001B[38;5;241m.\u001B[39mdocuments[document\u001B[38;5;241m.\u001B[39mdoc_id]\u001B[38;5;241m.\u001B[39mtfidf\n\u001B[0;32m     44\u001B[0m     dim \u001B[38;5;241m+\u001B[39m\u001B[38;5;241m=\u001B[39m \u001B[38;5;241m1\u001B[39m\n\u001B[1;32m---> 46\u001B[0m \u001B[38;5;28;01mreturn\u001B[39;00m \u001B[43mvector\u001B[49m\n",
      "File \u001B[1;32mC:\\dev\\ir\\irsp\\src\\search\\tfidf_model.py:46\u001B[0m, in \u001B[0;36mtfidf_vectorize_document\u001B[1;34m(terms, document)\u001B[0m\n\u001B[0;32m     43\u001B[0m         vector[dim] \u001B[38;5;241m=\u001B[39m term_info\u001B[38;5;241m.\u001B[39mdocuments[document\u001B[38;5;241m.\u001B[39mdoc_id]\u001B[38;5;241m.\u001B[39mtfidf\n\u001B[0;32m     44\u001B[0m     dim \u001B[38;5;241m+\u001B[39m\u001B[38;5;241m=\u001B[39m \u001B[38;5;241m1\u001B[39m\n\u001B[1;32m---> 46\u001B[0m \u001B[38;5;28;01mreturn\u001B[39;00m \u001B[43mvector\u001B[49m\n",
      "File \u001B[1;32m_pydevd_bundle\\pydevd_cython_win32_310_64.pyx:1179\u001B[0m, in \u001B[0;36m_pydevd_bundle.pydevd_cython_win32_310_64.SafeCallWrapper.__call__\u001B[1;34m()\u001B[0m\n",
      "File \u001B[1;32m_pydevd_bundle\\pydevd_cython_win32_310_64.pyx:620\u001B[0m, in \u001B[0;36m_pydevd_bundle.pydevd_cython_win32_310_64.PyDBFrame.trace_dispatch\u001B[1;34m()\u001B[0m\n",
      "File \u001B[1;32m_pydevd_bundle\\pydevd_cython_win32_310_64.pyx:929\u001B[0m, in \u001B[0;36m_pydevd_bundle.pydevd_cython_win32_310_64.PyDBFrame.trace_dispatch\u001B[1;34m()\u001B[0m\n",
      "File \u001B[1;32m_pydevd_bundle\\pydevd_cython_win32_310_64.pyx:920\u001B[0m, in \u001B[0;36m_pydevd_bundle.pydevd_cython_win32_310_64.PyDBFrame.trace_dispatch\u001B[1;34m()\u001B[0m\n",
      "File \u001B[1;32m_pydevd_bundle\\pydevd_cython_win32_310_64.pyx:317\u001B[0m, in \u001B[0;36m_pydevd_bundle.pydevd_cython_win32_310_64.PyDBFrame.do_wait_suspend\u001B[1;34m()\u001B[0m\n",
      "File \u001B[1;32m~\\AppData\\Local\\JetBrains\\Toolbox\\apps\\PyCharm-P\\ch-0\\221.5080.212\\plugins\\python\\helpers\\pydev\\pydevd.py:1155\u001B[0m, in \u001B[0;36mPyDB.do_wait_suspend\u001B[1;34m(self, thread, frame, event, arg, send_suspend_message, is_unhandled_exception)\u001B[0m\n\u001B[0;32m   1152\u001B[0m         from_this_thread\u001B[38;5;241m.\u001B[39mappend(frame_id)\n\u001B[0;32m   1154\u001B[0m \u001B[38;5;28;01mwith\u001B[39;00m \u001B[38;5;28mself\u001B[39m\u001B[38;5;241m.\u001B[39m_threads_suspended_single_notification\u001B[38;5;241m.\u001B[39mnotify_thread_suspended(thread_id, stop_reason):\n\u001B[1;32m-> 1155\u001B[0m     \u001B[38;5;28;43mself\u001B[39;49m\u001B[38;5;241;43m.\u001B[39;49m\u001B[43m_do_wait_suspend\u001B[49m\u001B[43m(\u001B[49m\u001B[43mthread\u001B[49m\u001B[43m,\u001B[49m\u001B[43m \u001B[49m\u001B[43mframe\u001B[49m\u001B[43m,\u001B[49m\u001B[43m \u001B[49m\u001B[43mevent\u001B[49m\u001B[43m,\u001B[49m\u001B[43m \u001B[49m\u001B[43marg\u001B[49m\u001B[43m,\u001B[49m\u001B[43m \u001B[49m\u001B[43msuspend_type\u001B[49m\u001B[43m,\u001B[49m\u001B[43m \u001B[49m\u001B[43mfrom_this_thread\u001B[49m\u001B[43m)\u001B[49m\n",
      "File \u001B[1;32m~\\AppData\\Local\\JetBrains\\Toolbox\\apps\\PyCharm-P\\ch-0\\221.5080.212\\plugins\\python\\helpers\\pydev\\pydevd.py:1170\u001B[0m, in \u001B[0;36mPyDB._do_wait_suspend\u001B[1;34m(self, thread, frame, event, arg, suspend_type, from_this_thread)\u001B[0m\n\u001B[0;32m   1167\u001B[0m             \u001B[38;5;28mself\u001B[39m\u001B[38;5;241m.\u001B[39m_call_mpl_hook()\n\u001B[0;32m   1169\u001B[0m         \u001B[38;5;28mself\u001B[39m\u001B[38;5;241m.\u001B[39mprocess_internal_commands()\n\u001B[1;32m-> 1170\u001B[0m         \u001B[43mtime\u001B[49m\u001B[38;5;241;43m.\u001B[39;49m\u001B[43msleep\u001B[49m\u001B[43m(\u001B[49m\u001B[38;5;241;43m0.01\u001B[39;49m\u001B[43m)\u001B[49m\n\u001B[0;32m   1172\u001B[0m \u001B[38;5;28mself\u001B[39m\u001B[38;5;241m.\u001B[39mcancel_async_evaluation(get_current_thread_id(thread), \u001B[38;5;28mstr\u001B[39m(\u001B[38;5;28mid\u001B[39m(frame)))\n\u001B[0;32m   1174\u001B[0m \u001B[38;5;66;03m# process any stepping instructions\u001B[39;00m\n",
      "\u001B[1;31mKeyboardInterrupt\u001B[0m: "
     ]
    }
   ],
   "source": [
    "# Now test TF-IDF\n",
    "tfidf_query = 'czechia'\n",
    "query_dto = QueryDto(query=tfidf_query, model=ModelVariant.TFIDF)\n",
    "\n",
    "documents = index.search(query_dto)\n",
    "\n",
    "print(f'Found {len(documents)} documents')\n",
    "for document in documents:\n",
    "    print(documents)"
   ],
   "metadata": {
    "collapsed": false,
    "pycharm": {
     "name": "#%%\n"
    }
   }
  },
  {
   "cell_type": "code",
   "execution_count": 7,
   "outputs": [],
   "source": [],
   "metadata": {
    "collapsed": false,
    "pycharm": {
     "name": "#%%\n"
    }
   }
  }
 ],
 "metadata": {
  "kernelspec": {
   "display_name": "Python 3",
   "language": "python",
   "name": "python3"
  },
  "language_info": {
   "codemirror_mode": {
    "name": "ipython",
    "version": 2
   },
   "file_extension": ".py",
   "mimetype": "text/x-python",
   "name": "python",
   "nbconvert_exporter": "python",
   "pygments_lexer": "ipython2",
   "version": "2.7.6"
  }
 },
 "nbformat": 4,
 "nbformat_minor": 0
}
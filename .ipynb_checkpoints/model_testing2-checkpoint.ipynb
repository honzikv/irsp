{
 "cells": [
  {
   "cell_type": "markdown",
   "metadata": {
    "pycharm": {
     "name": "#%% md\n"
    }
   },
   "source": [
    "This notebook was used to test the search models"
   ]
  },
  {
   "cell_type": "code",
   "execution_count": 1,
   "metadata": {
    "pycharm": {
     "name": "#%%\n"
    }
   },
   "outputs": [
    {
     "name": "stdout",
     "output_type": "stream",
     "text": [
      "Copying file: \"czech\" to \"C:\\dev\\ir\\irsp/nltk/corpora/stopwords\"\n"
     ]
    },
    {
     "name": "stderr",
     "output_type": "stream",
     "text": [
      "[nltk_data] Downloading package wordnet to\n",
      "[nltk_data]     C:\\dev\\ir\\irsp\\resources/nltk/...\n",
      "[nltk_data]   Package wordnet is already up-to-date!\n",
      "[nltk_data] Downloading package omw-1.4 to\n",
      "[nltk_data]     C:\\dev\\ir\\irsp\\resources/nltk/...\n",
      "[nltk_data]   Package omw-1.4 is already up-to-date!\n",
      "[nltk_data] Downloading package punkt to\n",
      "[nltk_data]     C:\\dev\\ir\\irsp\\resources/nltk/...\n",
      "[nltk_data]   Package punkt is already up-to-date!\n",
      "[nltk_data] Downloading package stopwords to\n",
      "[nltk_data]     C:\\dev\\ir\\irsp\\resources/nltk/...\n",
      "[nltk_data]   Unzipping corpora\\stopwords.zip.\n"
     ]
    }
   ],
   "source": [
    "import nltk\n",
    "import os\n",
    "from nltk_dependencies import setup_dependencies\n",
    "\n",
    "# Download dependencies if necessary\n",
    "setup_dependencies()\n",
    "\n",
    "# Configure NLTK - set the resource path to correct location\n",
    "nltk_resources_dir = os.path.join(os.getcwd(), 'resources\\\\nltk\\\\')\n",
    "nltk.data.path.append(nltk_resources_dir)"
   ]
  },
  {
   "cell_type": "code",
   "execution_count": 2,
   "metadata": {
    "pycharm": {
     "name": "#%%\n"
    }
   },
   "outputs": [
    {
     "data": {
      "text/plain": [
       "[{'text': 'tropical fish include fish found in tropical enviroments'},\n",
       " {'text': 'fish live in a sea'},\n",
       " {'text': 'tropical fish are popular aquarium fish'},\n",
       " {'text': 'fish also live in Czechia'},\n",
       " {'text': 'Czechia is a country'}]"
      ]
     },
     "execution_count": 2,
     "metadata": {},
     "output_type": "execute_result"
    }
   ],
   "source": [
    "import json\n",
    "\n",
    "from src.preprocessing.preprocessor_configurations import english_default_stemmer\n",
    "from src.index.index import Index\n",
    "from src.index.index_config import IndexConfig\n",
    "\n",
    "# Load sample file\n",
    "with open('resources/docs/english_documents.json', 'r') as f:\n",
    "    documents = json.load(f)\n",
    "\n",
    "documents"
   ]
  },
  {
   "cell_type": "code",
   "execution_count": 3,
   "metadata": {
    "pycharm": {
     "name": "#%%\n"
    }
   },
   "outputs": [],
   "source": [
    "from src.preprocessing.preprocessing import Preprocessor\n",
    "from src.index.index import add_index, delete_index\n",
    "\n",
    "try:\n",
    "    delete_index('test')\n",
    "except:\n",
    "    pass\n",
    "\n",
    "# Create new index and add it to the app\n",
    "index = Index(\n",
    "    config=IndexConfig(\n",
    "        name='test',\n",
    "        preprocessor=Preprocessor(english_default_stemmer),\n",
    "    ),\n",
    "    initial_batch=[]\n",
    ")\n",
    "\n",
    "add_index('test', index)"
   ]
  },
  {
   "cell_type": "code",
   "execution_count": 4,
   "metadata": {
    "pycharm": {
     "name": "#%%\n"
    }
   },
   "outputs": [
    {
     "data": {
      "text/plain": [
       "5"
      ]
     },
     "execution_count": 4,
     "metadata": {},
     "output_type": "execute_result"
    }
   ],
   "source": [
    "# Map json documents to domain objects\n",
    "docs_domain = []\n",
    "for doc in documents:\n",
    "    docs_domain.append(\n",
    "        index._parse_document_from_dict(doc)\n",
    "    )\n",
    "index.add_batch(docs_domain)\n",
    "\n",
    "len(index.documents)"
   ]
  },
  {
   "cell_type": "code",
   "execution_count": 12,
   "metadata": {
    "pycharm": {
     "name": "#%%\n"
    }
   },
   "outputs": [],
   "source": [
    "from src.api.indices_dtos import QueryDto, ModelVariant\n",
    "\n",
    "# A simple boolean query\n",
    "boolean_query = 'Are Fish tropical'\n",
    "query_dto = QueryDto(query=boolean_query, model=ModelVariant.BOOL)\n",
    "\n",
    "documents = index.search(query_dto)\n",
    "\n",
    "for document in documents:\n",
    "    print(document)"
   ]
  },
  {
   "cell_type": "code",
   "execution_count": 6,
   "metadata": {
    "pycharm": {
     "name": "#%%\n"
    }
   },
   "outputs": [
    {
     "name": "stdout",
     "output_type": "stream",
     "text": [
      "Found 1 documents\n",
      "{'score': None, 'document': DocumentDto(docId=UUID('179c9e29-18d2-4799-974b-4bce4ed092dd'), text='Czechia is a country', additionalProperties={})}\n"
     ]
    }
   ],
   "source": [
    "from src.api.indices_dtos import QueryDto, ModelVariant\n",
    "\n",
    "# A simple boolean query\n",
    "boolean_query = '(NOT FISH) AND czechiA'\n",
    "query_dto = QueryDto(query=boolean_query, model=ModelVariant.BOOL)\n",
    "\n",
    "documents = index.search(query_dto)\n",
    "\n",
    "print(f'Found {len(documents)} documents')\n",
    "for document in documents:\n",
    "    print(document)"
   ]
  },
  {
   "cell_type": "code",
   "execution_count": 7,
   "metadata": {
    "pycharm": {
     "name": "#%%\n"
    }
   },
   "outputs": [
    {
     "name": "stdout",
     "output_type": "stream",
     "text": [
      "Found 2 documents\n",
      "{'score': 0.4947592105690922, 'document': DocumentDto(docId=UUID('179c9e29-18d2-4799-974b-4bce4ed092dd'), text='Czechia is a country', additionalProperties={})}\n",
      "{'score': 0.4408883034708105, 'document': DocumentDto(docId=UUID('7c413469-317b-4147-ac23-340a9e8f8c63'), text='fish also live in Czechia', additionalProperties={})}\n"
     ]
    }
   ],
   "source": [
    "# Now test TF-IDF\n",
    "tfidf_query = 'czechia'\n",
    "query_dto = QueryDto(query=tfidf_query, model=ModelVariant.TFIDF)\n",
    "\n",
    "documents = index.search(query_dto)\n",
    "\n",
    "print(f'Found {len(documents)} documents')\n",
    "for document in documents:\n",
    "    print(document)"
   ]
  },
  {
   "cell_type": "code",
   "execution_count": null,
   "metadata": {
    "pycharm": {
     "name": "#%%\n"
    }
   },
   "outputs": [],
   "source": []
  }
 ],
 "metadata": {
  "kernelspec": {
   "display_name": "Python 3 (ipykernel)",
   "language": "python",
   "name": "python3"
  },
  "language_info": {
   "codemirror_mode": {
    "name": "ipython",
    "version": 3
   },
   "file_extension": ".py",
   "mimetype": "text/x-python",
   "name": "python",
   "nbconvert_exporter": "python",
   "pygments_lexer": "ipython3",
   "version": "3.10.2"
  }
 },
 "nbformat": 4,
 "nbformat_minor": 1
}
